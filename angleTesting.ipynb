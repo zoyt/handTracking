{
 "cells": [
  {
   "cell_type": "code",
   "execution_count": null,
   "outputs": [],
   "source": [
    "THUMB_CMC_ANGLE = 0, 1, 2)\n",
    "THUMB_MPC_ANGLE = 1,2,3\n",
    "THUMB_IP_ANGLE = 2,3,4\n",
    "\n",
    "INDEX_MCP_ANGLE = 0, 5, 6\n",
    "INDEX_PIP_ANGLE = 5,6,7\n",
    "INDEX_DIP_ANGLE = 6,7,8\n",
    "\n",
    "MIDDLE_MPC_ANGLE = 0, 9, 10\n",
    "MIDDLE_PIP_ANGLE = 9,10,11\n",
    "MIDDLE_DIP_ANGLE = 10,11,12\n",
    "\n",
    "RING_MPC_ANGLE = 0, 13, 14\n",
    "RING_PIP_ANGLE = 13,14,15\n",
    "RING_DIP_ANGLE = 14,15,16\n",
    "\n",
    "PINKY_MPC_ANGLE = 0, 17, 18\n",
    "PINKY_PIP_ANGLE = 17,18,19\n",
    "PINKY_DIP_ANGLE = 18,19,20\n",
    "\n"
   ],
   "metadata": {
    "collapsed": false,
    "pycharm": {
     "name": "#%%\n"
    }
   }
  },
  {
   "cell_type": "code",
   "execution_count": 3,
   "metadata": {
    "collapsed": true
   },
   "outputs": [],
   "source": [
    "refLoc = [[408, 589, 0], [364, 589, -473], [324, 564, -880], [309, 527, -1286], [308, 482, -1607], [328, 392, -654], [329, 385, -1229], [338, 450, -1429], [343, 494, -1493], [369, 375, -744], [369, 400, -1338], [372, 481, -1326], [376, 526, -1226], [409, 385, -912], [406, 424, -1443], [403, 494, -1282], [404, 530, -1075], [447, 411, -1149], [441, 441, -1450], [435, 494, -1360], [434, 524, -1214]]"
   ]
  },
  {
   "cell_type": "code",
   "execution_count": 4,
   "outputs": [
    {
     "data": {
      "text/plain": "[408, 589, 0]"
     },
     "execution_count": 4,
     "metadata": {},
     "output_type": "execute_result"
    }
   ],
   "source": [
    "refLoc[0]"
   ],
   "metadata": {
    "collapsed": false,
    "pycharm": {
     "name": "#%%\n"
    }
   }
  },
  {
   "cell_type": "code",
   "execution_count": 5,
   "outputs": [],
   "source": [
    "import numpy as np\n",
    "import math\n",
    "\n",
    "def angle_2p_3d(a, b, c):\n",
    "\n",
    "    v1 = np.array([ a[0] - b[0], a[1] - b[1], a[2] - b[2] ])\n",
    "    v2 = np.array([ c[0] - b[0], c[1] - b[1], c[2] - b[2] ])\n",
    "\n",
    "    v1mag = np.sqrt([ v1[0] * v1[0] + v1[1] * v1[1] + v1[2] * v1[2] ])\n",
    "    v1norm = np.array([ v1[0] / v1mag, v1[1] / v1mag, v1[2] / v1mag ])\n",
    "\n",
    "    v2mag = np.sqrt(v2[0] * v2[0] + v2[1] * v2[1] + v2[2] * v2[2])\n",
    "    v2norm = np.array([ v2[0] / v2mag, v2[1] / v2mag, v2[2] / v2mag ])\n",
    "    res = v1norm[0] * v2norm[0] + v1norm[1] * v2norm[1] + v1norm[2] * v2norm[2]\n",
    "    angle_rad = np.arccos(res)\n",
    "\n",
    "    return math.degrees(angle_rad)"
   ],
   "metadata": {
    "collapsed": false,
    "pycharm": {
     "name": "#%%\n"
    }
   }
  },
  {
   "cell_type": "code",
   "execution_count": 10,
   "outputs": [],
   "source": [
    "p1 = refLoc[0]\n",
    "p2 = refLoc[1]\n",
    "p3 = refLoc[2]\n",
    "\n",
    "angle = angle_2p_3d(p1, p2, p3)"
   ],
   "metadata": {
    "collapsed": false,
    "pycharm": {
     "name": "#%%\n"
    }
   }
  },
  {
   "cell_type": "code",
   "execution_count": 17,
   "outputs": [],
   "source": [
    "import numpy as np"
   ],
   "metadata": {
    "collapsed": false,
    "pycharm": {
     "name": "#%%\n"
    }
   }
  },
  {
   "cell_type": "code",
   "execution_count": 18,
   "outputs": [],
   "source": [
    "dial = np.array([1,2,3,4,5,6,7,8,9]).reshape(3,3)"
   ],
   "metadata": {
    "collapsed": false,
    "pycharm": {
     "name": "#%%\n"
    }
   }
  },
  {
   "cell_type": "code",
   "execution_count": 21,
   "outputs": [
    {
     "data": {
      "text/plain": "'[1 2 3]'"
     },
     "execution_count": 21,
     "metadata": {},
     "output_type": "execute_result"
    }
   ],
   "source": [
    "str(dial[0])"
   ],
   "metadata": {
    "collapsed": false,
    "pycharm": {
     "name": "#%%\n"
    }
   }
  },
  {
   "cell_type": "code",
   "execution_count": 46,
   "outputs": [
    {
     "data": {
      "text/plain": "array([[ 0,  3,  6,  9, 12],\n       [ 1,  4,  7, 10, 13],\n       [ 2,  5,  8, 11, 14]])"
     },
     "execution_count": 46,
     "metadata": {},
     "output_type": "execute_result"
    }
   ],
   "source": [
    "\n",
    "    reshape = np.array([THUMB_CMC_ANGLE,THUMB_MPC_ANGLE,THUMB_IP_ANGLE,\n",
    "                        INDEX_MCP_ANGLE,INDEX_PIP_ANGLE,INDEX_DIP_ANGLE,\n",
    "                        MIDDLE_MPC_ANGLE,MIDDLE_PIP_ANGLE,MIDDLE_DIP_ANGLE,\n",
    "                        RING_MPC_ANGLE,RING_PIP_ANGLE,RING_DIP_ANGLE,\n",
    "                        PINKY_MPC_ANGLE,PINKY_PIP_ANGLE,PINKY_DIP_ANGLE\n",
    "                        ]).reshape(5,3)\n",
    "    reshape = reshape.astype(int)\n",
    "    reshape = np.rot90(reshape)\n",
    "    reshape = np.flipud(reshape)\n",
    "    reshape"
   ],
   "metadata": {
    "collapsed": false,
    "pycharm": {
     "name": "#%%\n"
    }
   }
  },
  {
   "cell_type": "code",
   "execution_count": 30,
   "outputs": [],
   "source": [
    "THUMB_CMC_ANGLE = 0\n",
    "THUMB_MPC_ANGLE = 1\n",
    "THUMB_IP_ANGLE = 2\n",
    "\n",
    "INDEX_MCP_ANGLE = 3\n",
    "INDEX_PIP_ANGLE = 4\n",
    "INDEX_DIP_ANGLE = 5\n",
    "\n",
    "MIDDLE_MPC_ANGLE = 6\n",
    "MIDDLE_PIP_ANGLE = 7\n",
    "MIDDLE_DIP_ANGLE = 8\n",
    "\n",
    "RING_MPC_ANGLE = 9\n",
    "RING_PIP_ANGLE = 10\n",
    "RING_DIP_ANGLE = 11\n",
    "\n",
    "PINKY_MPC_ANGLE = 12\n",
    "PINKY_PIP_ANGLE = 13\n",
    "PINKY_DIP_ANGLE = 14\n",
    "\n"
   ],
   "metadata": {
    "collapsed": false,
    "pycharm": {
     "name": "#%%\n"
    }
   }
  },
  {
   "cell_type": "code",
   "execution_count": 42,
   "outputs": [
    {
     "data": {
      "text/plain": "array([[ 0,  3,  6,  9, 12],\n       [ 1,  4,  7, 10, 13],\n       [ 2,  5,  8, 11, 14]])"
     },
     "execution_count": 42,
     "metadata": {},
     "output_type": "execute_result"
    }
   ],
   "source": [],
   "metadata": {
    "collapsed": false,
    "pycharm": {
     "name": "#%%\n"
    }
   }
  },
  {
   "cell_type": "code",
   "execution_count": 45,
   "outputs": [
    {
     "name": "stdout",
     "output_type": "stream",
     "text": [
      "[[ 0  3  6  9 12]\n",
      " [ 1  4  7 10 13]\n",
      " [ 2  5  8 11 14]]\n"
     ]
    }
   ],
   "source": [
    "print(str(reshape[:][:]))"
   ],
   "metadata": {
    "collapsed": false,
    "pycharm": {
     "name": "#%%\n"
    }
   }
  },
  {
   "cell_type": "code",
   "execution_count": null,
   "outputs": [],
   "source": [],
   "metadata": {
    "collapsed": false,
    "pycharm": {
     "name": "#%%\n"
    }
   }
  }
 ],
 "metadata": {
  "kernelspec": {
   "display_name": "Python 3",
   "language": "python",
   "name": "python3"
  },
  "language_info": {
   "codemirror_mode": {
    "name": "ipython",
    "version": 2
   },
   "file_extension": ".py",
   "mimetype": "text/x-python",
   "name": "python",
   "nbconvert_exporter": "python",
   "pygments_lexer": "ipython2",
   "version": "2.7.6"
  }
 },
 "nbformat": 4,
 "nbformat_minor": 0
}