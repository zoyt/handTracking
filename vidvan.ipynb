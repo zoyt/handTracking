{
 "cells": [
  {
   "cell_type": "code",
   "execution_count": 1,
   "source": [
    "# TechVidvan hand Gesture Recognizer\r\n",
    "\r\n",
    "# import necessary packages\r\n",
    "\r\n",
    "import cv2\r\n",
    "import numpy as np\r\n",
    "import mediapipe as mp\r\n",
    "import tensorflow as tf\r\n",
    "from tensorflow.keras.models import load_model\r\n",
    "# also \"pip install msvc-runtime,\" referenced by mp\r\n",
    "# also \"pip install Pillow\" ref by ??\r\n",
    "\r\n",
    "# initialize mediapipe\r\n",
    "mpHands = mp.solutions.hands\r\n",
    "hands = mpHands.Hands(max_num_hands=1, min_detection_confidence=0.7)\r\n",
    "mpDraw = mp.solutions.drawing_utils\r\n",
    "\r\n",
    "# Load the gesture recognizer model\r\n",
    "model = load_model('mp_hand_gesture')\r\n",
    "\r\n",
    "# Load class names\r\n",
    "f = open('gesture.names', 'r')\r\n",
    "classNames = f.read().split('\\n')\r\n",
    "f.close()\r\n",
    "print(classNames)\r\n",
    "\r\n",
    "# Initialize the webcam\r\n",
    "cap = cv2.VideoCapture()\r\n",
    "\r\n",
    "while True:\r\n",
    "    # Read each frame from the webcam\r\n",
    "    _, frame = cap.read()\r\n",
    "\r\n",
    "    x, y, c = frame.shape\r\n",
    "\r\n",
    "    # Flip the frame vertically\r\n",
    "    frame = cv2.flip(frame, 1)\r\n",
    "    framergb = cv2.cvtColor(frame, cv2.COLOR_BGR2RGB)\r\n",
    "\r\n",
    "    # Get hand landmark prediction\r\n",
    "    result = hands.process(framergb)\r\n",
    "\r\n",
    "    # print(result)\r\n",
    "    \r\n",
    "    className = ''\r\n",
    "\r\n",
    "    # post process the result\r\n",
    "    if result.multi_hand_landmarks:\r\n",
    "        landmarks = []\r\n",
    "        for handslms in result.multi_hand_landmarks:\r\n",
    "            for lm in handslms.landmark:\r\n",
    "                # print(id, lm)\r\n",
    "                lmx = int(lm.x * x)\r\n",
    "                lmy = int(lm.y * y)\r\n",
    "\r\n",
    "                landmarks.append([lmx, lmy])\r\n",
    "\r\n",
    "            # Drawing landmarks on frames\r\n",
    "            mpDraw.draw_landmarks(frame, handslms, mpHands.HAND_CONNECTIONS)\r\n",
    "\r\n",
    "            # Predict gesture\r\n",
    "            prediction = model.predict([landmarks])\r\n",
    "            # print(prediction)\r\n",
    "            classID = np.argmax(prediction)\r\n",
    "            className = classNames[classID]\r\n",
    "\r\n",
    "    # show the prediction on the frame\r\n",
    "    cv2.putText(frame, className, (10, 50), cv2.FONT_HERSHEY_SIMPLEX, \r\n",
    "                   1, (0,0,255), 2, cv2.LINE_AA)\r\n",
    "\r\n",
    "    # Show the final output\r\n",
    "    cv2.imshow(\"Output\", frame) \r\n",
    "\r\n",
    "    if cv2.waitKey(1) == ord('q'):\r\n",
    "        break\r\n",
    "\r\n",
    "# release the webcam and destroy all active windows\r\n",
    "cap.release()\r\n",
    "\r\n",
    "cv2.destroyAllWindows()"
   ],
   "outputs": [
    {
     "output_type": "stream",
     "name": "stdout",
     "text": [
      "['okay', 'peace', 'thumbs up', 'thumbs down', 'call me', 'stop', 'rock', 'live long', 'fist', 'smile']\n"
     ]
    },
    {
     "output_type": "error",
     "ename": "KeyboardInterrupt",
     "evalue": "",
     "traceback": [
      "\u001b[1;31m---------------------------------------------------------------------------\u001b[0m",
      "\u001b[1;31mKeyboardInterrupt\u001b[0m                         Traceback (most recent call last)",
      "\u001b[1;32mC:\\Users\\OWENHO~1\\AppData\\Local\\Temp/ipykernel_10992/1684047962.py\u001b[0m in \u001b[0;36m<module>\u001b[1;34m\u001b[0m\n\u001b[0;32m     38\u001b[0m \u001b[1;33m\u001b[0m\u001b[0m\n\u001b[0;32m     39\u001b[0m     \u001b[1;31m# Get hand landmark prediction\u001b[0m\u001b[1;33m\u001b[0m\u001b[1;33m\u001b[0m\u001b[1;33m\u001b[0m\u001b[0m\n\u001b[1;32m---> 40\u001b[1;33m     \u001b[0mresult\u001b[0m \u001b[1;33m=\u001b[0m \u001b[0mhands\u001b[0m\u001b[1;33m.\u001b[0m\u001b[0mprocess\u001b[0m\u001b[1;33m(\u001b[0m\u001b[0mframergb\u001b[0m\u001b[1;33m)\u001b[0m\u001b[1;33m\u001b[0m\u001b[1;33m\u001b[0m\u001b[0m\n\u001b[0m\u001b[0;32m     41\u001b[0m \u001b[1;33m\u001b[0m\u001b[0m\n\u001b[0;32m     42\u001b[0m     \u001b[1;31m# print(result)\u001b[0m\u001b[1;33m\u001b[0m\u001b[1;33m\u001b[0m\u001b[1;33m\u001b[0m\u001b[0m\n",
      "\u001b[1;32m~\\Anaconda3\\lib\\site-packages\\mediapipe\\python\\solutions\\hands.py\u001b[0m in \u001b[0;36mprocess\u001b[1;34m(self, image)\u001b[0m\n\u001b[0;32m    142\u001b[0m     \"\"\"\n\u001b[0;32m    143\u001b[0m \u001b[1;33m\u001b[0m\u001b[0m\n\u001b[1;32m--> 144\u001b[1;33m     \u001b[1;32mreturn\u001b[0m \u001b[0msuper\u001b[0m\u001b[1;33m(\u001b[0m\u001b[1;33m)\u001b[0m\u001b[1;33m.\u001b[0m\u001b[0mprocess\u001b[0m\u001b[1;33m(\u001b[0m\u001b[0minput_data\u001b[0m\u001b[1;33m=\u001b[0m\u001b[1;33m{\u001b[0m\u001b[1;34m'image'\u001b[0m\u001b[1;33m:\u001b[0m \u001b[0mimage\u001b[0m\u001b[1;33m}\u001b[0m\u001b[1;33m)\u001b[0m\u001b[1;33m\u001b[0m\u001b[1;33m\u001b[0m\u001b[0m\n\u001b[0m",
      "\u001b[1;32m~\\Anaconda3\\lib\\site-packages\\mediapipe\\python\\solution_base.py\u001b[0m in \u001b[0;36mprocess\u001b[1;34m(self, input_data)\u001b[0m\n\u001b[0;32m    332\u001b[0m                                      data).at(self._simulated_timestamp))\n\u001b[0;32m    333\u001b[0m \u001b[1;33m\u001b[0m\u001b[0m\n\u001b[1;32m--> 334\u001b[1;33m     \u001b[0mself\u001b[0m\u001b[1;33m.\u001b[0m\u001b[0m_graph\u001b[0m\u001b[1;33m.\u001b[0m\u001b[0mwait_until_idle\u001b[0m\u001b[1;33m(\u001b[0m\u001b[1;33m)\u001b[0m\u001b[1;33m\u001b[0m\u001b[1;33m\u001b[0m\u001b[0m\n\u001b[0m\u001b[0;32m    335\u001b[0m     \u001b[1;31m# Create a NamedTuple object where the field names are mapping to the graph\u001b[0m\u001b[1;33m\u001b[0m\u001b[1;33m\u001b[0m\u001b[1;33m\u001b[0m\u001b[0m\n\u001b[0;32m    336\u001b[0m     \u001b[1;31m# output stream names.\u001b[0m\u001b[1;33m\u001b[0m\u001b[1;33m\u001b[0m\u001b[1;33m\u001b[0m\u001b[0m\n",
      "\u001b[1;31mKeyboardInterrupt\u001b[0m: "
     ]
    }
   ],
   "metadata": {}
  },
  {
   "cell_type": "code",
   "execution_count": null,
   "source": [],
   "outputs": [],
   "metadata": {}
  }
 ],
 "metadata": {
  "orig_nbformat": 4,
  "language_info": {
   "name": "python",
   "version": "3.8.11",
   "mimetype": "text/x-python",
   "codemirror_mode": {
    "name": "ipython",
    "version": 3
   },
   "pygments_lexer": "ipython3",
   "nbconvert_exporter": "python",
   "file_extension": ".py"
  },
  "kernelspec": {
   "name": "python3",
   "display_name": "Python 3.8.11 64-bit ('base': conda)"
  },
  "interpreter": {
   "hash": "bf6b38d35c77666c799bc5547f76623877a41b9a26cbef9c76455bad8c4da8f3"
  }
 },
 "nbformat": 4,
 "nbformat_minor": 2
}